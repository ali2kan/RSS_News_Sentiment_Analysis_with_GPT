{
  "cells": [
    {
      "attachments": {},
      "cell_type": "markdown",
      "metadata": {
        "colab_type": "text",
        "id": "view-in-github"
      },
      "source": [
        "<a href=\"https://colab.research.google.com/github/m4rk-lewis/GPT-3_breaking_news_parse_with_sentiment_classify/blob/main/GPT_3_breaking_financial_news_summary_and_sentiment_classification.ipynb\" target=\"_parent\"><img src=\"https://colab.research.google.com/assets/colab-badge.svg\" alt=\"Open In Colab\"/></a>"
      ]
    },
    {
      "cell_type": "code",
      "execution_count": 1,
      "metadata": {
        "id": "nH2D1SpjBXj9"
      },
      "outputs": [
        {
          "name": "stdout",
          "output_type": "stream",
          "text": [
            "Requirement already satisfied: feedparser in c:\\python311\\lib\\site-packages (6.0.10)\n",
            "Requirement already satisfied: beautifulsoup4 in c:\\python311\\lib\\site-packages (4.12.2)\n",
            "Requirement already satisfied: openai in c:\\python311\\lib\\site-packages (0.27.6)\n",
            "Requirement already satisfied: sgmllib3k in c:\\python311\\lib\\site-packages (from feedparser) (1.0.0)\n",
            "Requirement already satisfied: soupsieve>1.2 in c:\\python311\\lib\\site-packages (from beautifulsoup4) (2.4.1)\n",
            "Requirement already satisfied: requests>=2.20 in c:\\python311\\lib\\site-packages (from openai) (2.28.1)\n",
            "Requirement already satisfied: tqdm in c:\\python311\\lib\\site-packages (from openai) (4.65.0)\n",
            "Requirement already satisfied: aiohttp in c:\\python311\\lib\\site-packages (from openai) (3.8.4)\n",
            "Requirement already satisfied: charset-normalizer<3,>=2 in c:\\python311\\lib\\site-packages (from requests>=2.20->openai) (2.1.1)\n",
            "Requirement already satisfied: idna<4,>=2.5 in c:\\python311\\lib\\site-packages (from requests>=2.20->openai) (3.4)\n",
            "Requirement already satisfied: urllib3<1.27,>=1.21.1 in c:\\python311\\lib\\site-packages (from requests>=2.20->openai) (1.26.11)\n",
            "Requirement already satisfied: certifi>=2017.4.17 in c:\\python311\\lib\\site-packages (from requests>=2.20->openai) (2022.12.7)\n",
            "Requirement already satisfied: attrs>=17.3.0 in c:\\python311\\lib\\site-packages (from aiohttp->openai) (23.1.0)\n",
            "Requirement already satisfied: multidict<7.0,>=4.5 in c:\\python311\\lib\\site-packages (from aiohttp->openai) (6.0.4)\n",
            "Requirement already satisfied: async-timeout<5.0,>=4.0.0a3 in c:\\python311\\lib\\site-packages (from aiohttp->openai) (4.0.2)\n",
            "Requirement already satisfied: yarl<2.0,>=1.0 in c:\\python311\\lib\\site-packages (from aiohttp->openai) (1.9.2)\n",
            "Requirement already satisfied: frozenlist>=1.1.1 in c:\\python311\\lib\\site-packages (from aiohttp->openai) (1.3.3)\n",
            "Requirement already satisfied: aiosignal>=1.1.2 in c:\\python311\\lib\\site-packages (from aiohttp->openai) (1.3.1)\n",
            "Requirement already satisfied: colorama in c:\\users\\musea\\appdata\\roaming\\python\\python311\\site-packages (from tqdm->openai) (0.4.6)\n"
          ]
        },
        {
          "name": "stderr",
          "output_type": "stream",
          "text": [
            "\n",
            "[notice] A new release of pip available: 22.3.1 -> 23.1.2\n",
            "[notice] To update, run: python.exe -m pip install --upgrade pip\n"
          ]
        }
      ],
      "source": [
        "# credit to: @m4rk-lewis https://github.com/m4rk-lewis/GPT-3_breaking_news_parse_with_sentiment_classify\n",
        "\n",
        "# Step 1: Install required packages\n",
        "!pip install feedparser beautifulsoup4 openai"
      ]
    },
    {
      "cell_type": "code",
      "execution_count": 2,
      "metadata": {
        "id": "Pc3S-XJVBaIb"
      },
      "outputs": [],
      "source": [
        "# Step 2: Download and parse the RSS feed\n",
        "import feedparser\n",
        "def get_feed(url):\n",
        "    return feedparser.parse(url)"
      ]
    },
    {
      "cell_type": "code",
      "execution_count": 3,
      "metadata": {
        "id": "W5XIA-eyBfJU"
      },
      "outputs": [],
      "source": [
        "# Step 3: Extract HTML from the description\n",
        "from bs4 import BeautifulSoup\n",
        "\n",
        "def extract_text(html):\n",
        "    soup = BeautifulSoup(html, \"html.parser\")\n",
        "    return soup.get_text()"
      ]
    },
    {
      "cell_type": "code",
      "execution_count": 9,
      "metadata": {
        "id": "r-NlATswBhpj"
      },
      "outputs": [],
      "source": [
        "from dotenv import load_dotenv\n",
        "load_dotenv()\n",
        "import os\n",
        "import openai\n",
        "\n",
        "# openai.api_key = \"insert-openAI-API-here\"\n",
        "openai.api_key = os.environ.get(\"api_key\")\n",
        "\n",
        "# Step 4: Summarize using GPT-3\n",
        "def summarize_text(text):\n",
        "    response = openai.Completion.create(\n",
        "        engine=\"text-davinci-003\", \n",
        "        prompt=f\"Summarize the following news article: {text}\",\n",
        "        temperature=0.3,\n",
        "        max_tokens=50,\n",
        "        top_p=1,\n",
        "        frequency_penalty=0.0,\n",
        "        presence_penalty=0,\n",
        "    )\n",
        "    return response.choices[0].text.strip()\n",
        "\n",
        "# Step 5: Sentiment classification\n",
        "def sentiment_classification(text):\n",
        "    response = openai.Completion.create(\n",
        "        engine=\"text-davinci-003\", \n",
        "        prompt=f\"classify the sentiment of this breaking financial news article as a numerical float, with a range of -1 to 1 with 0.1 granularity, where -1 is maximum bearishness and 1 is maximum bullishness in relation to equities, reply only the float number as requested, do not include any text in the response: {text}\",       \n",
        "        temperature=0.3,\n",
        "        max_tokens=10,\n",
        "        top_p=1,\n",
        "        frequency_penalty=0.0,\n",
        "        presence_penalty=0,\n",
        "    )\n",
        "    sentiment_str = response.choices[0].text.strip()\n",
        "    try:\n",
        "        sentiment = float(sentiment_str)\n",
        "    except ValueError:\n",
        "        sentiment = None\n",
        "    return sentiment"
      ]
    },
    {
      "cell_type": "code",
      "execution_count": 10,
      "metadata": {
        "id": "4JbNpYxYBoo0"
      },
      "outputs": [],
      "source": [
        "# Step 6: Store the summarized information in a SQLite database\n",
        "import sqlite3\n",
        "\n",
        "def create_db():\n",
        "    conn = sqlite3.connect('nvda_yahoo_rss.db')\n",
        "    cursor = conn.cursor()\n",
        "    cursor.execute('''CREATE TABLE IF NOT EXISTS news (published TEXT, title TEXT, summary TEXT, sentiment TEXT)''')\n",
        "    return conn, cursor\n",
        "\n",
        "def insert_news(cursor, published, title, summary, sentiment):\n",
        "    cursor.execute(\"INSERT INTO news (published, title, summary, sentiment) VALUES (?, ?, ?, ?)\", (published, title, summary, sentiment))\n",
        "    # Commit the changes to the database\n",
        "    conn.commit()"
      ]
    },
    {
      "cell_type": "code",
      "execution_count": 12,
      "metadata": {
        "id": "BsdXg5TLBtdT"
      },
      "outputs": [],
      "source": [
        "# Step 7: Continuously monitor the RSS feed for updates\n",
        "import time\n",
        "\n",
        "def monitor_feed(url, conn, cursor\n",
        "                 # , interval=60\n",
        "                 ):\n",
        "    seen_titles = set()\n",
        "    \n",
        "    while True:\n",
        "        feed = get_feed(url)\n",
        "        # print(feed.entries[0])\n",
        "        for entry in feed.entries:\n",
        "            title = entry.title\n",
        "            if title not in seen_titles:\n",
        "                # if entry.category == \"News\" or entry.category ==\"Central Banks\":\n",
        "                    seen_titles.add(title)\n",
        "                    # category = extract_text(entry.category)\n",
        "                    published = extract_text(entry.published)\n",
        "                    description = extract_text(entry.description)\n",
        "                    summary = summarize_text(description[:4000])\n",
        "                    sentiment = sentiment_classification(description[:4000])  \n",
        "                    insert_news(cursor, published, title, summary, sentiment)  \n",
        "                    print(f\"{published} >>> {title} >>> {description} >>> Summary: {summary} >>> Sentiment: {sentiment}\")\n",
        "                          # >>> {category} \n",
        "                          \n",
        "        # Close the database connection and sleep\n",
        "        conn.close()\n",
        "        #time.sleep(interval)"
      ]
    },
    {
      "cell_type": "code",
      "execution_count": 13,
      "metadata": {
        "colab": {
          "base_uri": "https://localhost:8080/",
          "height": 765
        },
        "id": "BtUcnCZRBxoU",
        "outputId": "1f37d8b6-38ee-4910-eab8-5ca9265b54c1"
      },
      "outputs": [
        {
          "name": "stdout",
          "output_type": "stream",
          "text": [
            "Tue, 09 May 2023 21:45:09 +0000 >>> Nvidia (NVDA) Dips More Than Broader Markets: What You Should Know >>> In the latest trading session, Nvidia (NVDA) closed at $285.71, marking a -1.99% move from the previous day. >>> Summary: Nvidia (NVDA) closed at $285.71 in the latest trading session, representing a decrease of 1.99% from the previous day. >>> Sentiment: -0.9\n",
            "Tue, 09 May 2023 20:57:01 +0000 >>> What's Going On With NVIDIA Stock Tuesday >>> Nvidia Corp (NASDAQ: NVDA) shares are trading lower Tuesday as Advanced Micro Devices, Inc (NASDAQ: AMD) shared plans to showcase its growth strategy and expanding product portfolio and capabilities for data center and AI at a June 13 livestreaming event. AMD Chair and CEO Dr. Lisa Su will detail new products and momentum across data center, AI, adaptive, and high-performance computing solutions. Also, Monday reports suggested that U.S. sanctions compelled the Chinese firms, including Alibaba Gr >>> Summary: p Hldg Ltd (NYSE: BABA) and Tencent Hldgs Ltd (OTC: TCEHY), to stop using Nvidia’s chips.\n",
            "\n",
            "Nvidia Corp (NASDAQ: NVDA) shares are trading >>> Sentiment: p Hldg Ltd (NYSE: BABA\n",
            "Tue, 09 May 2023 20:46:22 +0000 >>> Despite An Another Bad Update, Intel Still Believes It Can Uplevel Its Chip Game >>> Just a few weeks after reporting its fifth consecutive quarter of falling sales and the second consecutive quarter of losses which was also the largest loss in its history, Intel Corporation (NASDAQ: INTC) is the latest to announce a new round of job cuts, joining Meta Platforms (NASDAQ: META), Alphabet Inc (NASDAQ: GOOG)(GOOGL) and other tech giants who took a hit to their bottom lines and also opted to trim their workforce in response to poor macroeconomic conditions. But, Intel still believes >>> Summary: that its restructuring efforts will help the company to remain competitive and profitable in the long run.\n",
            "\n",
            "Intel Corporation has reported five consecutive quarters of falling sales and two consecutive quarters of losses, the largest in its history. In response to poor macroeconomic conditions >>> Sentiment: that it will be able to meet its financial targets\n",
            "Tue, 09 May 2023 16:46:30 +0000 >>> PayPal, IBM turn to A.I. to cut costs >>> PayPal’s A.I. pitch hits at the core of the current moment in the tech industry, with layoffs mounting and one of the sector’s largest players, Meta Platforms, touting a \"Year of Efficiency.” >>> Summary: PayPal is using Artificial Intelligence (A.I.) to increase efficiency, as layoffs in the tech industry are increasing and Meta Platforms is promoting a \"Year of Efficiency.\" This shows that A.I. is becoming a more important tool >>> Sentiment: 0.5\n",
            "Tue, 09 May 2023 15:08:48 +0000 >>> AI Stocks To Watch As Big Tech Braces For Artificial Intelligence Regulation >>> The best artificial intelligence stocks to buy generate revenue and new products amid the growing hype over AI stocks. >>> Summary: This article discusses the best stocks to buy in the artificial intelligence sector, which are generating revenue and creating new products as the hype around AI stocks continues to grow. >>> Sentiment: 0.7\n"
          ]
        },
        {
          "ename": "KeyboardInterrupt",
          "evalue": "",
          "output_type": "error",
          "traceback": [
            "\u001b[1;31m---------------------------------------------------------------------------\u001b[0m",
            "\u001b[1;31mKeyboardInterrupt\u001b[0m                         Traceback (most recent call last)",
            "Cell \u001b[1;32mIn[13], line 8\u001b[0m\n\u001b[0;32m      6\u001b[0m url \u001b[39m=\u001b[39m \u001b[39m\"\u001b[39m\u001b[39mhttp://finance.yahoo.com/rss/headline?s=NVDA\u001b[39m\u001b[39m\"\u001b[39m\n\u001b[0;32m      7\u001b[0m conn, cursor \u001b[39m=\u001b[39m create_db()\n\u001b[1;32m----> 8\u001b[0m monitor_feed(url, conn, cursor)\n",
            "Cell \u001b[1;32mIn[12], line 20\u001b[0m, in \u001b[0;36mmonitor_feed\u001b[1;34m(url, conn, cursor)\u001b[0m\n\u001b[0;32m     18\u001b[0m published \u001b[39m=\u001b[39m extract_text(entry\u001b[39m.\u001b[39mpublished)\n\u001b[0;32m     19\u001b[0m description \u001b[39m=\u001b[39m extract_text(entry\u001b[39m.\u001b[39mdescription)\n\u001b[1;32m---> 20\u001b[0m summary \u001b[39m=\u001b[39m summarize_text(description[:\u001b[39m4000\u001b[39;49m])\n\u001b[0;32m     21\u001b[0m sentiment \u001b[39m=\u001b[39m sentiment_classification(description[:\u001b[39m4000\u001b[39m])  \n\u001b[0;32m     22\u001b[0m insert_news(cursor, published, title, summary, sentiment)  \n",
            "Cell \u001b[1;32mIn[9], line 11\u001b[0m, in \u001b[0;36msummarize_text\u001b[1;34m(text)\u001b[0m\n\u001b[0;32m     10\u001b[0m \u001b[39mdef\u001b[39;00m \u001b[39msummarize_text\u001b[39m(text):\n\u001b[1;32m---> 11\u001b[0m     response \u001b[39m=\u001b[39m openai\u001b[39m.\u001b[39;49mCompletion\u001b[39m.\u001b[39;49mcreate(\n\u001b[0;32m     12\u001b[0m         engine\u001b[39m=\u001b[39;49m\u001b[39m\"\u001b[39;49m\u001b[39mtext-davinci-003\u001b[39;49m\u001b[39m\"\u001b[39;49m, \n\u001b[0;32m     13\u001b[0m         prompt\u001b[39m=\u001b[39;49m\u001b[39mf\u001b[39;49m\u001b[39m\"\u001b[39;49m\u001b[39mSummarize the following news article: \u001b[39;49m\u001b[39m{\u001b[39;49;00mtext\u001b[39m}\u001b[39;49;00m\u001b[39m\"\u001b[39;49m,\n\u001b[0;32m     14\u001b[0m         temperature\u001b[39m=\u001b[39;49m\u001b[39m0.3\u001b[39;49m,\n\u001b[0;32m     15\u001b[0m         max_tokens\u001b[39m=\u001b[39;49m\u001b[39m50\u001b[39;49m,\n\u001b[0;32m     16\u001b[0m         top_p\u001b[39m=\u001b[39;49m\u001b[39m1\u001b[39;49m,\n\u001b[0;32m     17\u001b[0m         frequency_penalty\u001b[39m=\u001b[39;49m\u001b[39m0.0\u001b[39;49m,\n\u001b[0;32m     18\u001b[0m         presence_penalty\u001b[39m=\u001b[39;49m\u001b[39m0\u001b[39;49m,\n\u001b[0;32m     19\u001b[0m     )\n\u001b[0;32m     20\u001b[0m     \u001b[39mreturn\u001b[39;00m response\u001b[39m.\u001b[39mchoices[\u001b[39m0\u001b[39m]\u001b[39m.\u001b[39mtext\u001b[39m.\u001b[39mstrip()\n",
            "File \u001b[1;32mc:\\Python311\\Lib\\site-packages\\openai\\api_resources\\completion.py:25\u001b[0m, in \u001b[0;36mCompletion.create\u001b[1;34m(cls, *args, **kwargs)\u001b[0m\n\u001b[0;32m     23\u001b[0m \u001b[39mwhile\u001b[39;00m \u001b[39mTrue\u001b[39;00m:\n\u001b[0;32m     24\u001b[0m     \u001b[39mtry\u001b[39;00m:\n\u001b[1;32m---> 25\u001b[0m         \u001b[39mreturn\u001b[39;00m \u001b[39msuper\u001b[39;49m()\u001b[39m.\u001b[39;49mcreate(\u001b[39m*\u001b[39;49margs, \u001b[39m*\u001b[39;49m\u001b[39m*\u001b[39;49mkwargs)\n\u001b[0;32m     26\u001b[0m     \u001b[39mexcept\u001b[39;00m TryAgain \u001b[39mas\u001b[39;00m e:\n\u001b[0;32m     27\u001b[0m         \u001b[39mif\u001b[39;00m timeout \u001b[39mis\u001b[39;00m \u001b[39mnot\u001b[39;00m \u001b[39mNone\u001b[39;00m \u001b[39mand\u001b[39;00m time\u001b[39m.\u001b[39mtime() \u001b[39m>\u001b[39m start \u001b[39m+\u001b[39m timeout:\n",
            "File \u001b[1;32mc:\\Python311\\Lib\\site-packages\\openai\\api_resources\\abstract\\engine_api_resource.py:153\u001b[0m, in \u001b[0;36mEngineAPIResource.create\u001b[1;34m(cls, api_key, api_base, api_type, request_id, api_version, organization, **params)\u001b[0m\n\u001b[0;32m    127\u001b[0m \u001b[39m@classmethod\u001b[39m\n\u001b[0;32m    128\u001b[0m \u001b[39mdef\u001b[39;00m \u001b[39mcreate\u001b[39m(\n\u001b[0;32m    129\u001b[0m     \u001b[39mcls\u001b[39m,\n\u001b[1;32m   (...)\u001b[0m\n\u001b[0;32m    136\u001b[0m     \u001b[39m*\u001b[39m\u001b[39m*\u001b[39mparams,\n\u001b[0;32m    137\u001b[0m ):\n\u001b[0;32m    138\u001b[0m     (\n\u001b[0;32m    139\u001b[0m         deployment_id,\n\u001b[0;32m    140\u001b[0m         engine,\n\u001b[1;32m   (...)\u001b[0m\n\u001b[0;32m    150\u001b[0m         api_key, api_base, api_type, api_version, organization, \u001b[39m*\u001b[39m\u001b[39m*\u001b[39mparams\n\u001b[0;32m    151\u001b[0m     )\n\u001b[1;32m--> 153\u001b[0m     response, _, api_key \u001b[39m=\u001b[39m requestor\u001b[39m.\u001b[39;49mrequest(\n\u001b[0;32m    154\u001b[0m         \u001b[39m\"\u001b[39;49m\u001b[39mpost\u001b[39;49m\u001b[39m\"\u001b[39;49m,\n\u001b[0;32m    155\u001b[0m         url,\n\u001b[0;32m    156\u001b[0m         params\u001b[39m=\u001b[39;49mparams,\n\u001b[0;32m    157\u001b[0m         headers\u001b[39m=\u001b[39;49mheaders,\n\u001b[0;32m    158\u001b[0m         stream\u001b[39m=\u001b[39;49mstream,\n\u001b[0;32m    159\u001b[0m         request_id\u001b[39m=\u001b[39;49mrequest_id,\n\u001b[0;32m    160\u001b[0m         request_timeout\u001b[39m=\u001b[39;49mrequest_timeout,\n\u001b[0;32m    161\u001b[0m     )\n\u001b[0;32m    163\u001b[0m     \u001b[39mif\u001b[39;00m stream:\n\u001b[0;32m    164\u001b[0m         \u001b[39m# must be an iterator\u001b[39;00m\n\u001b[0;32m    165\u001b[0m         \u001b[39massert\u001b[39;00m \u001b[39mnot\u001b[39;00m \u001b[39misinstance\u001b[39m(response, OpenAIResponse)\n",
            "File \u001b[1;32mc:\\Python311\\Lib\\site-packages\\openai\\api_requestor.py:220\u001b[0m, in \u001b[0;36mAPIRequestor.request\u001b[1;34m(self, method, url, params, headers, files, stream, request_id, request_timeout)\u001b[0m\n\u001b[0;32m    209\u001b[0m \u001b[39mdef\u001b[39;00m \u001b[39mrequest\u001b[39m(\n\u001b[0;32m    210\u001b[0m     \u001b[39mself\u001b[39m,\n\u001b[0;32m    211\u001b[0m     method,\n\u001b[1;32m   (...)\u001b[0m\n\u001b[0;32m    218\u001b[0m     request_timeout: Optional[Union[\u001b[39mfloat\u001b[39m, Tuple[\u001b[39mfloat\u001b[39m, \u001b[39mfloat\u001b[39m]]] \u001b[39m=\u001b[39m \u001b[39mNone\u001b[39;00m,\n\u001b[0;32m    219\u001b[0m ) \u001b[39m-\u001b[39m\u001b[39m>\u001b[39m Tuple[Union[OpenAIResponse, Iterator[OpenAIResponse]], \u001b[39mbool\u001b[39m, \u001b[39mstr\u001b[39m]:\n\u001b[1;32m--> 220\u001b[0m     result \u001b[39m=\u001b[39m \u001b[39mself\u001b[39;49m\u001b[39m.\u001b[39;49mrequest_raw(\n\u001b[0;32m    221\u001b[0m         method\u001b[39m.\u001b[39;49mlower(),\n\u001b[0;32m    222\u001b[0m         url,\n\u001b[0;32m    223\u001b[0m         params\u001b[39m=\u001b[39;49mparams,\n\u001b[0;32m    224\u001b[0m         supplied_headers\u001b[39m=\u001b[39;49mheaders,\n\u001b[0;32m    225\u001b[0m         files\u001b[39m=\u001b[39;49mfiles,\n\u001b[0;32m    226\u001b[0m         stream\u001b[39m=\u001b[39;49mstream,\n\u001b[0;32m    227\u001b[0m         request_id\u001b[39m=\u001b[39;49mrequest_id,\n\u001b[0;32m    228\u001b[0m         request_timeout\u001b[39m=\u001b[39;49mrequest_timeout,\n\u001b[0;32m    229\u001b[0m     )\n\u001b[0;32m    230\u001b[0m     resp, got_stream \u001b[39m=\u001b[39m \u001b[39mself\u001b[39m\u001b[39m.\u001b[39m_interpret_response(result, stream)\n\u001b[0;32m    231\u001b[0m     \u001b[39mreturn\u001b[39;00m resp, got_stream, \u001b[39mself\u001b[39m\u001b[39m.\u001b[39mapi_key\n",
            "File \u001b[1;32mc:\\Python311\\Lib\\site-packages\\openai\\api_requestor.py:520\u001b[0m, in \u001b[0;36mAPIRequestor.request_raw\u001b[1;34m(self, method, url, params, supplied_headers, files, stream, request_id, request_timeout)\u001b[0m\n\u001b[0;32m    518\u001b[0m     _thread_context\u001b[39m.\u001b[39msession \u001b[39m=\u001b[39m _make_session()\n\u001b[0;32m    519\u001b[0m \u001b[39mtry\u001b[39;00m:\n\u001b[1;32m--> 520\u001b[0m     result \u001b[39m=\u001b[39m _thread_context\u001b[39m.\u001b[39;49msession\u001b[39m.\u001b[39;49mrequest(\n\u001b[0;32m    521\u001b[0m         method,\n\u001b[0;32m    522\u001b[0m         abs_url,\n\u001b[0;32m    523\u001b[0m         headers\u001b[39m=\u001b[39;49mheaders,\n\u001b[0;32m    524\u001b[0m         data\u001b[39m=\u001b[39;49mdata,\n\u001b[0;32m    525\u001b[0m         files\u001b[39m=\u001b[39;49mfiles,\n\u001b[0;32m    526\u001b[0m         stream\u001b[39m=\u001b[39;49mstream,\n\u001b[0;32m    527\u001b[0m         timeout\u001b[39m=\u001b[39;49mrequest_timeout \u001b[39mif\u001b[39;49;00m request_timeout \u001b[39melse\u001b[39;49;00m TIMEOUT_SECS,\n\u001b[0;32m    528\u001b[0m         proxies\u001b[39m=\u001b[39;49m_thread_context\u001b[39m.\u001b[39;49msession\u001b[39m.\u001b[39;49mproxies,\n\u001b[0;32m    529\u001b[0m     )\n\u001b[0;32m    530\u001b[0m \u001b[39mexcept\u001b[39;00m requests\u001b[39m.\u001b[39mexceptions\u001b[39m.\u001b[39mTimeout \u001b[39mas\u001b[39;00m e:\n\u001b[0;32m    531\u001b[0m     \u001b[39mraise\u001b[39;00m error\u001b[39m.\u001b[39mTimeout(\u001b[39m\"\u001b[39m\u001b[39mRequest timed out: \u001b[39m\u001b[39m{}\u001b[39;00m\u001b[39m\"\u001b[39m\u001b[39m.\u001b[39mformat(e)) \u001b[39mfrom\u001b[39;00m \u001b[39me\u001b[39;00m\n",
            "File \u001b[1;32mc:\\Python311\\Lib\\site-packages\\requests\\sessions.py:587\u001b[0m, in \u001b[0;36mSession.request\u001b[1;34m(self, method, url, params, data, headers, cookies, files, auth, timeout, allow_redirects, proxies, hooks, stream, verify, cert, json)\u001b[0m\n\u001b[0;32m    582\u001b[0m send_kwargs \u001b[39m=\u001b[39m {\n\u001b[0;32m    583\u001b[0m     \u001b[39m\"\u001b[39m\u001b[39mtimeout\u001b[39m\u001b[39m\"\u001b[39m: timeout,\n\u001b[0;32m    584\u001b[0m     \u001b[39m\"\u001b[39m\u001b[39mallow_redirects\u001b[39m\u001b[39m\"\u001b[39m: allow_redirects,\n\u001b[0;32m    585\u001b[0m }\n\u001b[0;32m    586\u001b[0m send_kwargs\u001b[39m.\u001b[39mupdate(settings)\n\u001b[1;32m--> 587\u001b[0m resp \u001b[39m=\u001b[39m \u001b[39mself\u001b[39;49m\u001b[39m.\u001b[39;49msend(prep, \u001b[39m*\u001b[39;49m\u001b[39m*\u001b[39;49msend_kwargs)\n\u001b[0;32m    589\u001b[0m \u001b[39mreturn\u001b[39;00m resp\n",
            "File \u001b[1;32mc:\\Python311\\Lib\\site-packages\\requests\\sessions.py:701\u001b[0m, in \u001b[0;36mSession.send\u001b[1;34m(self, request, **kwargs)\u001b[0m\n\u001b[0;32m    698\u001b[0m start \u001b[39m=\u001b[39m preferred_clock()\n\u001b[0;32m    700\u001b[0m \u001b[39m# Send the request\u001b[39;00m\n\u001b[1;32m--> 701\u001b[0m r \u001b[39m=\u001b[39m adapter\u001b[39m.\u001b[39;49msend(request, \u001b[39m*\u001b[39;49m\u001b[39m*\u001b[39;49mkwargs)\n\u001b[0;32m    703\u001b[0m \u001b[39m# Total elapsed time of the request (approximately)\u001b[39;00m\n\u001b[0;32m    704\u001b[0m elapsed \u001b[39m=\u001b[39m preferred_clock() \u001b[39m-\u001b[39m start\n",
            "File \u001b[1;32mc:\\Python311\\Lib\\site-packages\\requests\\adapters.py:489\u001b[0m, in \u001b[0;36mHTTPAdapter.send\u001b[1;34m(self, request, stream, timeout, verify, cert, proxies)\u001b[0m\n\u001b[0;32m    487\u001b[0m \u001b[39mtry\u001b[39;00m:\n\u001b[0;32m    488\u001b[0m     \u001b[39mif\u001b[39;00m \u001b[39mnot\u001b[39;00m chunked:\n\u001b[1;32m--> 489\u001b[0m         resp \u001b[39m=\u001b[39m conn\u001b[39m.\u001b[39;49murlopen(\n\u001b[0;32m    490\u001b[0m             method\u001b[39m=\u001b[39;49mrequest\u001b[39m.\u001b[39;49mmethod,\n\u001b[0;32m    491\u001b[0m             url\u001b[39m=\u001b[39;49murl,\n\u001b[0;32m    492\u001b[0m             body\u001b[39m=\u001b[39;49mrequest\u001b[39m.\u001b[39;49mbody,\n\u001b[0;32m    493\u001b[0m             headers\u001b[39m=\u001b[39;49mrequest\u001b[39m.\u001b[39;49mheaders,\n\u001b[0;32m    494\u001b[0m             redirect\u001b[39m=\u001b[39;49m\u001b[39mFalse\u001b[39;49;00m,\n\u001b[0;32m    495\u001b[0m             assert_same_host\u001b[39m=\u001b[39;49m\u001b[39mFalse\u001b[39;49;00m,\n\u001b[0;32m    496\u001b[0m             preload_content\u001b[39m=\u001b[39;49m\u001b[39mFalse\u001b[39;49;00m,\n\u001b[0;32m    497\u001b[0m             decode_content\u001b[39m=\u001b[39;49m\u001b[39mFalse\u001b[39;49;00m,\n\u001b[0;32m    498\u001b[0m             retries\u001b[39m=\u001b[39;49m\u001b[39mself\u001b[39;49m\u001b[39m.\u001b[39;49mmax_retries,\n\u001b[0;32m    499\u001b[0m             timeout\u001b[39m=\u001b[39;49mtimeout,\n\u001b[0;32m    500\u001b[0m         )\n\u001b[0;32m    502\u001b[0m     \u001b[39m# Send the request.\u001b[39;00m\n\u001b[0;32m    503\u001b[0m     \u001b[39melse\u001b[39;00m:\n\u001b[0;32m    504\u001b[0m         \u001b[39mif\u001b[39;00m \u001b[39mhasattr\u001b[39m(conn, \u001b[39m\"\u001b[39m\u001b[39mproxy_pool\u001b[39m\u001b[39m\"\u001b[39m):\n",
            "File \u001b[1;32mc:\\Python311\\Lib\\site-packages\\urllib3\\connectionpool.py:703\u001b[0m, in \u001b[0;36mHTTPConnectionPool.urlopen\u001b[1;34m(self, method, url, body, headers, retries, redirect, assert_same_host, timeout, pool_timeout, release_conn, chunked, body_pos, **response_kw)\u001b[0m\n\u001b[0;32m    700\u001b[0m     \u001b[39mself\u001b[39m\u001b[39m.\u001b[39m_prepare_proxy(conn)\n\u001b[0;32m    702\u001b[0m \u001b[39m# Make the request on the httplib connection object.\u001b[39;00m\n\u001b[1;32m--> 703\u001b[0m httplib_response \u001b[39m=\u001b[39m \u001b[39mself\u001b[39;49m\u001b[39m.\u001b[39;49m_make_request(\n\u001b[0;32m    704\u001b[0m     conn,\n\u001b[0;32m    705\u001b[0m     method,\n\u001b[0;32m    706\u001b[0m     url,\n\u001b[0;32m    707\u001b[0m     timeout\u001b[39m=\u001b[39;49mtimeout_obj,\n\u001b[0;32m    708\u001b[0m     body\u001b[39m=\u001b[39;49mbody,\n\u001b[0;32m    709\u001b[0m     headers\u001b[39m=\u001b[39;49mheaders,\n\u001b[0;32m    710\u001b[0m     chunked\u001b[39m=\u001b[39;49mchunked,\n\u001b[0;32m    711\u001b[0m )\n\u001b[0;32m    713\u001b[0m \u001b[39m# If we're going to release the connection in ``finally:``, then\u001b[39;00m\n\u001b[0;32m    714\u001b[0m \u001b[39m# the response doesn't need to know about the connection. Otherwise\u001b[39;00m\n\u001b[0;32m    715\u001b[0m \u001b[39m# it will also try to release it and we'll have a double-release\u001b[39;00m\n\u001b[0;32m    716\u001b[0m \u001b[39m# mess.\u001b[39;00m\n\u001b[0;32m    717\u001b[0m response_conn \u001b[39m=\u001b[39m conn \u001b[39mif\u001b[39;00m \u001b[39mnot\u001b[39;00m release_conn \u001b[39melse\u001b[39;00m \u001b[39mNone\u001b[39;00m\n",
            "File \u001b[1;32mc:\\Python311\\Lib\\site-packages\\urllib3\\connectionpool.py:449\u001b[0m, in \u001b[0;36mHTTPConnectionPool._make_request\u001b[1;34m(self, conn, method, url, timeout, chunked, **httplib_request_kw)\u001b[0m\n\u001b[0;32m    444\u001b[0m             httplib_response \u001b[39m=\u001b[39m conn\u001b[39m.\u001b[39mgetresponse()\n\u001b[0;32m    445\u001b[0m         \u001b[39mexcept\u001b[39;00m \u001b[39mBaseException\u001b[39;00m \u001b[39mas\u001b[39;00m e:\n\u001b[0;32m    446\u001b[0m             \u001b[39m# Remove the TypeError from the exception chain in\u001b[39;00m\n\u001b[0;32m    447\u001b[0m             \u001b[39m# Python 3 (including for exceptions like SystemExit).\u001b[39;00m\n\u001b[0;32m    448\u001b[0m             \u001b[39m# Otherwise it looks like a bug in the code.\u001b[39;00m\n\u001b[1;32m--> 449\u001b[0m             six\u001b[39m.\u001b[39;49mraise_from(e, \u001b[39mNone\u001b[39;49;00m)\n\u001b[0;32m    450\u001b[0m \u001b[39mexcept\u001b[39;00m (SocketTimeout, BaseSSLError, SocketError) \u001b[39mas\u001b[39;00m e:\n\u001b[0;32m    451\u001b[0m     \u001b[39mself\u001b[39m\u001b[39m.\u001b[39m_raise_timeout(err\u001b[39m=\u001b[39me, url\u001b[39m=\u001b[39murl, timeout_value\u001b[39m=\u001b[39mread_timeout)\n",
            "File \u001b[1;32m<string>:3\u001b[0m, in \u001b[0;36mraise_from\u001b[1;34m(value, from_value)\u001b[0m\n",
            "File \u001b[1;32mc:\\Python311\\Lib\\site-packages\\urllib3\\connectionpool.py:444\u001b[0m, in \u001b[0;36mHTTPConnectionPool._make_request\u001b[1;34m(self, conn, method, url, timeout, chunked, **httplib_request_kw)\u001b[0m\n\u001b[0;32m    441\u001b[0m \u001b[39mexcept\u001b[39;00m \u001b[39mTypeError\u001b[39;00m:\n\u001b[0;32m    442\u001b[0m     \u001b[39m# Python 3\u001b[39;00m\n\u001b[0;32m    443\u001b[0m     \u001b[39mtry\u001b[39;00m:\n\u001b[1;32m--> 444\u001b[0m         httplib_response \u001b[39m=\u001b[39m conn\u001b[39m.\u001b[39;49mgetresponse()\n\u001b[0;32m    445\u001b[0m     \u001b[39mexcept\u001b[39;00m \u001b[39mBaseException\u001b[39;00m \u001b[39mas\u001b[39;00m e:\n\u001b[0;32m    446\u001b[0m         \u001b[39m# Remove the TypeError from the exception chain in\u001b[39;00m\n\u001b[0;32m    447\u001b[0m         \u001b[39m# Python 3 (including for exceptions like SystemExit).\u001b[39;00m\n\u001b[0;32m    448\u001b[0m         \u001b[39m# Otherwise it looks like a bug in the code.\u001b[39;00m\n\u001b[0;32m    449\u001b[0m         six\u001b[39m.\u001b[39mraise_from(e, \u001b[39mNone\u001b[39;00m)\n",
            "File \u001b[1;32mc:\\Python311\\Lib\\http\\client.py:1374\u001b[0m, in \u001b[0;36mHTTPConnection.getresponse\u001b[1;34m(self)\u001b[0m\n\u001b[0;32m   1372\u001b[0m \u001b[39mtry\u001b[39;00m:\n\u001b[0;32m   1373\u001b[0m     \u001b[39mtry\u001b[39;00m:\n\u001b[1;32m-> 1374\u001b[0m         response\u001b[39m.\u001b[39;49mbegin()\n\u001b[0;32m   1375\u001b[0m     \u001b[39mexcept\u001b[39;00m \u001b[39mConnectionError\u001b[39;00m:\n\u001b[0;32m   1376\u001b[0m         \u001b[39mself\u001b[39m\u001b[39m.\u001b[39mclose()\n",
            "File \u001b[1;32mc:\\Python311\\Lib\\http\\client.py:318\u001b[0m, in \u001b[0;36mHTTPResponse.begin\u001b[1;34m(self)\u001b[0m\n\u001b[0;32m    316\u001b[0m \u001b[39m# read until we get a non-100 response\u001b[39;00m\n\u001b[0;32m    317\u001b[0m \u001b[39mwhile\u001b[39;00m \u001b[39mTrue\u001b[39;00m:\n\u001b[1;32m--> 318\u001b[0m     version, status, reason \u001b[39m=\u001b[39m \u001b[39mself\u001b[39;49m\u001b[39m.\u001b[39;49m_read_status()\n\u001b[0;32m    319\u001b[0m     \u001b[39mif\u001b[39;00m status \u001b[39m!=\u001b[39m CONTINUE:\n\u001b[0;32m    320\u001b[0m         \u001b[39mbreak\u001b[39;00m\n",
            "File \u001b[1;32mc:\\Python311\\Lib\\http\\client.py:279\u001b[0m, in \u001b[0;36mHTTPResponse._read_status\u001b[1;34m(self)\u001b[0m\n\u001b[0;32m    278\u001b[0m \u001b[39mdef\u001b[39;00m \u001b[39m_read_status\u001b[39m(\u001b[39mself\u001b[39m):\n\u001b[1;32m--> 279\u001b[0m     line \u001b[39m=\u001b[39m \u001b[39mstr\u001b[39m(\u001b[39mself\u001b[39m\u001b[39m.\u001b[39mfp\u001b[39m.\u001b[39mreadline(_MAXLINE \u001b[39m+\u001b[39m \u001b[39m1\u001b[39m), \u001b[39m\"\u001b[39m\u001b[39miso-8859-1\u001b[39m\u001b[39m\"\u001b[39m)\n\u001b[0;32m    280\u001b[0m     \u001b[39mif\u001b[39;00m \u001b[39mlen\u001b[39m(line) \u001b[39m>\u001b[39m _MAXLINE:\n\u001b[0;32m    281\u001b[0m         \u001b[39mraise\u001b[39;00m LineTooLong(\u001b[39m\"\u001b[39m\u001b[39mstatus line\u001b[39m\u001b[39m\"\u001b[39m)\n",
            "File \u001b[1;32mc:\\Python311\\Lib\\socket.py:706\u001b[0m, in \u001b[0;36mSocketIO.readinto\u001b[1;34m(self, b)\u001b[0m\n\u001b[0;32m    704\u001b[0m \u001b[39mwhile\u001b[39;00m \u001b[39mTrue\u001b[39;00m:\n\u001b[0;32m    705\u001b[0m     \u001b[39mtry\u001b[39;00m:\n\u001b[1;32m--> 706\u001b[0m         \u001b[39mreturn\u001b[39;00m \u001b[39mself\u001b[39;49m\u001b[39m.\u001b[39;49m_sock\u001b[39m.\u001b[39;49mrecv_into(b)\n\u001b[0;32m    707\u001b[0m     \u001b[39mexcept\u001b[39;00m timeout:\n\u001b[0;32m    708\u001b[0m         \u001b[39mself\u001b[39m\u001b[39m.\u001b[39m_timeout_occurred \u001b[39m=\u001b[39m \u001b[39mTrue\u001b[39;00m\n",
            "File \u001b[1;32mc:\\Python311\\Lib\\ssl.py:1278\u001b[0m, in \u001b[0;36mSSLSocket.recv_into\u001b[1;34m(self, buffer, nbytes, flags)\u001b[0m\n\u001b[0;32m   1274\u001b[0m     \u001b[39mif\u001b[39;00m flags \u001b[39m!=\u001b[39m \u001b[39m0\u001b[39m:\n\u001b[0;32m   1275\u001b[0m         \u001b[39mraise\u001b[39;00m \u001b[39mValueError\u001b[39;00m(\n\u001b[0;32m   1276\u001b[0m           \u001b[39m\"\u001b[39m\u001b[39mnon-zero flags not allowed in calls to recv_into() on \u001b[39m\u001b[39m%s\u001b[39;00m\u001b[39m\"\u001b[39m \u001b[39m%\u001b[39m\n\u001b[0;32m   1277\u001b[0m           \u001b[39mself\u001b[39m\u001b[39m.\u001b[39m\u001b[39m__class__\u001b[39m)\n\u001b[1;32m-> 1278\u001b[0m     \u001b[39mreturn\u001b[39;00m \u001b[39mself\u001b[39;49m\u001b[39m.\u001b[39;49mread(nbytes, buffer)\n\u001b[0;32m   1279\u001b[0m \u001b[39melse\u001b[39;00m:\n\u001b[0;32m   1280\u001b[0m     \u001b[39mreturn\u001b[39;00m \u001b[39msuper\u001b[39m()\u001b[39m.\u001b[39mrecv_into(buffer, nbytes, flags)\n",
            "File \u001b[1;32mc:\\Python311\\Lib\\ssl.py:1134\u001b[0m, in \u001b[0;36mSSLSocket.read\u001b[1;34m(self, len, buffer)\u001b[0m\n\u001b[0;32m   1132\u001b[0m \u001b[39mtry\u001b[39;00m:\n\u001b[0;32m   1133\u001b[0m     \u001b[39mif\u001b[39;00m buffer \u001b[39mis\u001b[39;00m \u001b[39mnot\u001b[39;00m \u001b[39mNone\u001b[39;00m:\n\u001b[1;32m-> 1134\u001b[0m         \u001b[39mreturn\u001b[39;00m \u001b[39mself\u001b[39;49m\u001b[39m.\u001b[39;49m_sslobj\u001b[39m.\u001b[39;49mread(\u001b[39mlen\u001b[39;49m, buffer)\n\u001b[0;32m   1135\u001b[0m     \u001b[39melse\u001b[39;00m:\n\u001b[0;32m   1136\u001b[0m         \u001b[39mreturn\u001b[39;00m \u001b[39mself\u001b[39m\u001b[39m.\u001b[39m_sslobj\u001b[39m.\u001b[39mread(\u001b[39mlen\u001b[39m)\n",
            "\u001b[1;31mKeyboardInterrupt\u001b[0m: "
          ]
        }
      ],
      "source": [
        "'''\n",
        "# This code will download the RSS feed and process new entries every 60 seconds. \n",
        "Adjust the interval parameter in monitor_feed() to control how often the feed is checked.\n",
        "'''\n",
        "if __name__ == \"__main__\":\n",
        "    url = \"http://finance.yahoo.com/rss/headline?s=NVDA\"\n",
        "    conn, cursor = create_db()\n",
        "    monitor_feed(url, conn, cursor)\n"
      ]
    },
    {
      "cell_type": "code",
      "execution_count": 14,
      "metadata": {},
      "outputs": [
        {
          "data": {
            "text/html": [
              "<div>\n",
              "<style scoped>\n",
              "    .dataframe tbody tr th:only-of-type {\n",
              "        vertical-align: middle;\n",
              "    }\n",
              "\n",
              "    .dataframe tbody tr th {\n",
              "        vertical-align: top;\n",
              "    }\n",
              "\n",
              "    .dataframe thead th {\n",
              "        text-align: right;\n",
              "    }\n",
              "</style>\n",
              "<table border=\"1\" class=\"dataframe\">\n",
              "  <thead>\n",
              "    <tr style=\"text-align: right;\">\n",
              "      <th></th>\n",
              "      <th>published</th>\n",
              "      <th>title</th>\n",
              "      <th>summary</th>\n",
              "      <th>sentiment</th>\n",
              "    </tr>\n",
              "  </thead>\n",
              "  <tbody>\n",
              "    <tr>\n",
              "      <th>0</th>\n",
              "      <td>Tue, 09 May 2023 21:45:09 +0000</td>\n",
              "      <td>Nvidia (NVDA) Dips More Than Broader Markets: ...</td>\n",
              "      <td>Nvidia (NVDA) closed at $285.71 in the latest ...</td>\n",
              "      <td>-0.9</td>\n",
              "    </tr>\n",
              "    <tr>\n",
              "      <th>1</th>\n",
              "      <td>Tue, 09 May 2023 20:57:01 +0000</td>\n",
              "      <td>What's Going On With NVIDIA Stock Tuesday</td>\n",
              "      <td>p Hldg Ltd (NYSE: BABA) and Tencent Holdings L...</td>\n",
              "      <td>p Hldg Ltd (NYSE: BABA</td>\n",
              "    </tr>\n",
              "    <tr>\n",
              "      <th>2</th>\n",
              "      <td>Tue, 09 May 2023 20:46:22 +0000</td>\n",
              "      <td>Despite An Another Bad Update, Intel Still Bel...</td>\n",
              "      <td>it can turn things around.\\n\\nIntel Corporatio...</td>\n",
              "      <td>that its long-term prospects remain positive.</td>\n",
              "    </tr>\n",
              "    <tr>\n",
              "      <th>3</th>\n",
              "      <td>Tue, 09 May 2023 16:46:30 +0000</td>\n",
              "      <td>PayPal, IBM turn to A.I. to cut costs</td>\n",
              "      <td>PayPal is introducing an artificial intelligen...</td>\n",
              "      <td>0.5</td>\n",
              "    </tr>\n",
              "    <tr>\n",
              "      <th>4</th>\n",
              "      <td>Tue, 09 May 2023 15:08:48 +0000</td>\n",
              "      <td>AI Stocks To Watch As Big Tech Braces For Arti...</td>\n",
              "      <td>This article discusses the best stocks to buy ...</td>\n",
              "      <td>0.7</td>\n",
              "    </tr>\n",
              "  </tbody>\n",
              "</table>\n",
              "</div>"
            ],
            "text/plain": [
              "                         published   \n",
              "0  Tue, 09 May 2023 21:45:09 +0000  \\\n",
              "1  Tue, 09 May 2023 20:57:01 +0000   \n",
              "2  Tue, 09 May 2023 20:46:22 +0000   \n",
              "3  Tue, 09 May 2023 16:46:30 +0000   \n",
              "4  Tue, 09 May 2023 15:08:48 +0000   \n",
              "\n",
              "                                               title   \n",
              "0  Nvidia (NVDA) Dips More Than Broader Markets: ...  \\\n",
              "1          What's Going On With NVIDIA Stock Tuesday   \n",
              "2  Despite An Another Bad Update, Intel Still Bel...   \n",
              "3              PayPal, IBM turn to A.I. to cut costs   \n",
              "4  AI Stocks To Watch As Big Tech Braces For Arti...   \n",
              "\n",
              "                                             summary   \n",
              "0  Nvidia (NVDA) closed at $285.71 in the latest ...  \\\n",
              "1  p Hldg Ltd (NYSE: BABA) and Tencent Holdings L...   \n",
              "2  it can turn things around.\\n\\nIntel Corporatio...   \n",
              "3  PayPal is introducing an artificial intelligen...   \n",
              "4  This article discusses the best stocks to buy ...   \n",
              "\n",
              "                                       sentiment  \n",
              "0                                           -0.9  \n",
              "1                         p Hldg Ltd (NYSE: BABA  \n",
              "2  that its long-term prospects remain positive.  \n",
              "3                                            0.5  \n",
              "4                                            0.7  "
            ]
          },
          "execution_count": 14,
          "metadata": {},
          "output_type": "execute_result"
        }
      ],
      "source": [
        "import sqlite3\n",
        "import pandas as pd\n",
        "from datetime import datetime\n",
        "\n",
        "# create a connection\n",
        "con = sqlite3.connect('nvda_yahoo_rss.db')\n",
        "data = pd.read_sql_query('Select * from news;', con)\n",
        "\n",
        "# data['sentiment'] = data['sentiment'].astype(float)\n",
        "# parse_format = \"%a, %d %b %Y %H:%M:%S %z\"\n",
        "# format_output = \"%m-%d %H:%M\" # %Y-%m-%d %H:%M:%S\n",
        "# data['published'] = data['published'].apply(lambda x: datetime.strptime(x, parse_format).strftime(format_output))\n",
        "\n",
        "data.head()"
      ]
    },
    {
      "cell_type": "code",
      "execution_count": null,
      "metadata": {},
      "outputs": [],
      "source": []
    }
  ],
  "metadata": {
    "colab": {
      "include_colab_link": true,
      "provenance": []
    },
    "kernelspec": {
      "display_name": "Python 3",
      "name": "python3"
    },
    "language_info": {
      "codemirror_mode": {
        "name": "ipython",
        "version": 3
      },
      "file_extension": ".py",
      "mimetype": "text/x-python",
      "name": "python",
      "nbconvert_exporter": "python",
      "pygments_lexer": "ipython3",
      "version": "3.11.2"
    }
  },
  "nbformat": 4,
  "nbformat_minor": 0
}
